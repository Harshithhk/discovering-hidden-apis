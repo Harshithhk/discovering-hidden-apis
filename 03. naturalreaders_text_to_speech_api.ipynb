{
 "cells": [
  {
   "cell_type": "markdown",
   "metadata": {},
   "source": [
    "# Discovering Hidden APIs (Part-2)\n",
    "\n",
    "> Discovering and exploring Text-to-Speech API by [https://naturalreaders.com](https://naturalreaders.com)."
   ]
  },
  {
   "cell_type": "code",
   "execution_count": 1,
   "metadata": {},
   "outputs": [],
   "source": [
    "import requests"
   ]
  },
  {
   "cell_type": "code",
   "execution_count": 2,
   "metadata": {},
   "outputs": [],
   "source": [
    "params = (\n",
    "    ('r', '21'),\n",
    "    ('s', '1'),\n",
    "    ('l', '0'),\n",
    "    ('v', 'aca'),\n",
    "    ('t', 'how are you?')\n",
    ")\n",
    "\n",
    "data = '{\"t\":\"how are you?\"}'\n",
    "\n",
    "response = requests.post('https://kfiuqykx63.execute-api.us-east-1.amazonaws.com/Dev/tts', \n",
    "                         params=params, data=data)"
   ]
  },
  {
   "cell_type": "code",
   "execution_count": 3,
   "metadata": {},
   "outputs": [],
   "source": [
    "with open(\"a.mp3\", 'wb') as f:\n",
    "    f.write(response.content)"
   ]
  }
 ],
 "metadata": {
  "kernelspec": {
   "display_name": "Python 3",
   "language": "python",
   "name": "python3"
  },
  "language_info": {
   "codemirror_mode": {
    "name": "ipython",
    "version": 3
   },
   "file_extension": ".py",
   "mimetype": "text/x-python",
   "name": "python",
   "nbconvert_exporter": "python",
   "pygments_lexer": "ipython3",
   "version": "3.6.7"
  }
 },
 "nbformat": 4,
 "nbformat_minor": 2
}
